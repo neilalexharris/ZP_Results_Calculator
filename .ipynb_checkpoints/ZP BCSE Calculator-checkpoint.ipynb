{
 "cells": [
  {
   "cell_type": "code",
   "execution_count": null,
   "metadata": {},
   "outputs": [],
   "source": [
    "import pandas as pd\n",
    "import numpy as np\n",
    "import os"
   ]
  },
  {
   "cell_type": "code",
   "execution_count": null,
   "metadata": {},
   "outputs": [],
   "source": [
    "from selenium.webdriver import Chrome\n",
    "from selenium.webdriver.chrome.options import Options\n",
    "from bs4 import BeautifulSoup"
   ]
  },
  {
   "cell_type": "code",
   "execution_count": null,
   "metadata": {},
   "outputs": [],
   "source": [
    "folderpath = os.path.abspath('')"
   ]
  },
  {
   "cell_type": "code",
   "execution_count": null,
   "metadata": {},
   "outputs": [],
   "source": [
    "# initiate Chrome driver\n",
    "opts = Options()\n",
    "opts.add_argument('--headless')\n",
    "driver = Chrome(options = opts)"
   ]
  },
  {
   "cell_type": "code",
   "execution_count": null,
   "metadata": {},
   "outputs": [],
   "source": [
    "race_id = 935293 #935289 #get_race_ids()"
   ]
  },
  {
   "cell_type": "code",
   "execution_count": null,
   "metadata": {},
   "outputs": [],
   "source": [
    "def html_to_df(driver):\n",
    "    \n",
    "    # convert results table into dataframe\n",
    "    soup = BeautifulSoup(driver.page_source, 'html.parser')\n",
    "    table = soup.find(id='table_event_results_final')\n",
    "    df = pd.read_html(str(table))[0]\n",
    "    \n",
    "    return df"
   ]
  },
  {
   "cell_type": "code",
   "execution_count": null,
   "metadata": {},
   "outputs": [],
   "source": [
    "def import_race_data(driver, race_id):\n",
    "    \n",
    "    # set url\n",
    "    url = 'https://zwiftpower.com/events.php?zid=%d' % race_id\n",
    "    \n",
    "    # open page\n",
    "    driver.get(url)\n",
    "    \n",
    "    data = True\n",
    "    results = pd.DataFrame()\n",
    "    while data == True:\n",
    "    \n",
    "        df = html_to_df(driver)\n",
    "\n",
    "        # add results to exisiting data\n",
    "        results = pd.concat([results, df])\n",
    "\n",
    "        # check if there are other pages of results\n",
    "        nxt = driver.find_elements_by_class_name('paginate_button.next.disabled')\n",
    "\n",
    "        data = False\n",
    "        if len(nxt) == 0:\n",
    "            btn = driver.find_element_by_class_name('paginate_button.next')\n",
    "            lnk = btn.find_element_by_link_text('Next')\n",
    "            lnk.click()\n",
    "            data = True\n",
    "            \n",
    "    return results"
   ]
  },
  {
   "cell_type": "code",
   "execution_count": null,
   "metadata": {},
   "outputs": [],
   "source": [
    "# *** IMPORT DATA ***"
   ]
  },
  {
   "cell_type": "code",
   "execution_count": null,
   "metadata": {},
   "outputs": [],
   "source": [
    "# import BCSE teams\n",
    "filepath = r\"%s/bcse_teams.csv\" % folderpath\n",
    "teams = pd.read_csv(filepath)"
   ]
  },
  {
   "cell_type": "code",
   "execution_count": null,
   "metadata": {},
   "outputs": [],
   "source": [
    "# import points\n",
    "filepath = r\"%s/points.csv\" % folderpath\n",
    "pts = pd.read_csv(filepath)"
   ]
  },
  {
   "cell_type": "code",
   "execution_count": null,
   "metadata": {},
   "outputs": [],
   "source": [
    "# import race data\n",
    "df = import_race_data(driver, race_id)"
   ]
  },
  {
   "cell_type": "code",
   "execution_count": null,
   "metadata": {},
   "outputs": [],
   "source": [
    "# *** CLEAN UP DATA ***"
   ]
  },
  {
   "cell_type": "code",
   "execution_count": null,
   "metadata": {},
   "outputs": [],
   "source": [
    "# drop unnecessary columns\n",
    "df = df.drop(['#','Gain'], axis=1)"
   ]
  },
  {
   "cell_type": "code",
   "execution_count": null,
   "metadata": {
    "scrolled": true
   },
   "outputs": [],
   "source": [
    "# rename columns\n",
    "df = df.rename(columns={'Unnamed: 0': 'Cat', 'Avg':'HR_Avg', 'Max':'HR_Max'})"
   ]
  },
  {
   "cell_type": "code",
   "execution_count": null,
   "metadata": {},
   "outputs": [],
   "source": [
    "# clean up name column\n",
    "df['Rider'] = df['Rider'].str.strip()"
   ]
  },
  {
   "cell_type": "code",
   "execution_count": null,
   "metadata": {},
   "outputs": [],
   "source": [
    "# filter out non-bcse\n",
    "data = df.loc[df['Rider'].str.endswith(tuple(teams['team_tag']))].copy()\n",
    "nb = df.loc[~df['Rider'].str.endswith(tuple(teams['team_tag']))].copy()"
   ]
  },
  {
   "cell_type": "code",
   "execution_count": null,
   "metadata": {},
   "outputs": [],
   "source": [
    "# now extract team name\n",
    "searchstr = '|'.join(teams['team_tag'])\n",
    "data['Team'] = data['Rider'].str.extract(\"(\" + searchstr + \")\", expand=False)"
   ]
  },
  {
   "cell_type": "code",
   "execution_count": null,
   "metadata": {},
   "outputs": [],
   "source": [
    "# get rider names\n",
    "x = data['Rider'].str.split(expand=True)"
   ]
  },
  {
   "cell_type": "code",
   "execution_count": null,
   "metadata": {},
   "outputs": [],
   "source": [
    "data['forename'] = x[0]\n",
    "data['surname'] = x[1]"
   ]
  },
  {
   "cell_type": "code",
   "execution_count": null,
   "metadata": {},
   "outputs": [],
   "source": [
    "# split into categories\n",
    "a = data.loc[data['Cat']=='A'].copy().reset_index()\n",
    "b = data.loc[data['Cat']=='B'].copy().reset_index()\n",
    "c = data.loc[data['Cat']=='C'].copy().reset_index()\n",
    "d = data.loc[data['Cat']=='D'].copy().reset_index()"
   ]
  },
  {
   "cell_type": "code",
   "execution_count": null,
   "metadata": {},
   "outputs": [],
   "source": [
    "# allocate points per each category\n",
    "cats = ['A','B','C','D']"
   ]
  },
  {
   "cell_type": "code",
   "execution_count": null,
   "metadata": {},
   "outputs": [],
   "source": [
    "# split into categories\n",
    "dfs = [a,b,c,d]\n",
    "for i, df in enumerate(dfs):\n",
    "\n",
    "    df['position'] = df.index+1\n",
    "\n",
    "    col = cats[i]\n",
    "\n",
    "    dfs[i] = pd.merge(df, pts[[col]], left_index=True, right_index=True)\n",
    "\n",
    "    # rename points column\n",
    "    dfs[i].rename(columns={col: 'Points'}, inplace=True)\n",
    "    \n",
    "    # drop unnecessary index column\n",
    "    dfs[i].drop('index', axis=1, inplace=True)"
   ]
  },
  {
   "cell_type": "code",
   "execution_count": null,
   "metadata": {},
   "outputs": [],
   "source": [
    "[a,b,c,d] = dfs"
   ]
  },
  {
   "cell_type": "code",
   "execution_count": null,
   "metadata": {},
   "outputs": [],
   "source": [
    "# # add new 'B' cat scoring in\n",
    "# if len(b) > 55:\n",
    "#     # placeholder\n",
    "    \n",
    "#     # increment => 50/len(b)\n",
    "    \n",
    "#     # b.loc[6:,'points']"
   ]
  },
  {
   "cell_type": "code",
   "execution_count": null,
   "metadata": {},
   "outputs": [],
   "source": [
    "# check for any missed BCSEs\n",
    "#nb.loc[nb['Name'].str.contains('BCSE')]"
   ]
  },
  {
   "cell_type": "code",
   "execution_count": null,
   "metadata": {},
   "outputs": [],
   "source": [
    "# show BCSEs without tag in name\n",
    "#data.loc[~data['Name'].str.contains('BCSE')]"
   ]
  },
  {
   "cell_type": "code",
   "execution_count": null,
   "metadata": {},
   "outputs": [],
   "source": [
    "# create main dataset again\n",
    "total = pd.concat([a,b,c,d])"
   ]
  },
  {
   "cell_type": "code",
   "execution_count": null,
   "metadata": {},
   "outputs": [],
   "source": []
  },
  {
   "cell_type": "code",
   "execution_count": null,
   "metadata": {},
   "outputs": [],
   "source": []
  },
  {
   "cell_type": "code",
   "execution_count": null,
   "metadata": {},
   "outputs": [],
   "source": [
    "men = total.copy()"
   ]
  },
  {
   "cell_type": "code",
   "execution_count": null,
   "metadata": {},
   "outputs": [],
   "source": [
    "total = pd.concat([men, total])"
   ]
  },
  {
   "cell_type": "code",
   "execution_count": 173,
   "metadata": {
    "scrolled": true
   },
   "outputs": [],
   "source": [
    "# calculate team points\n",
    "df = total.groupby(['Cat','Team'])['Points'].sum()"
   ]
  },
  {
   "cell_type": "code",
   "execution_count": null,
   "metadata": {},
   "outputs": [],
   "source": [
    "total.groupby(['Team'])['Points'].sum().sort_values(ascending=False)"
   ]
  },
  {
   "cell_type": "code",
   "execution_count": 168,
   "metadata": {},
   "outputs": [],
   "source": [
    "def get_race_ids():\n",
    "    \n",
    "    response = input(\"Please enter race ids (separated by commas)\")\n",
    "\n",
    "    race_ids = response.split(',')\n",
    "\n",
    "    return race_ids"
   ]
  },
  {
   "cell_type": "code",
   "execution_count": null,
   "metadata": {},
   "outputs": [],
   "source": [
    "935293, 935289"
   ]
  }
 ],
 "metadata": {
  "kernelspec": {
   "display_name": "Python 3",
   "language": "python",
   "name": "python3"
  },
  "language_info": {
   "codemirror_mode": {
    "name": "ipython",
    "version": 3
   },
   "file_extension": ".py",
   "mimetype": "text/x-python",
   "name": "python",
   "nbconvert_exporter": "python",
   "pygments_lexer": "ipython3",
   "version": "3.7.0"
  }
 },
 "nbformat": 4,
 "nbformat_minor": 2
}
